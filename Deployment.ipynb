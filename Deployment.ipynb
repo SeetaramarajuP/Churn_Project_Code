{
 "cells": [
  {
   "cell_type": "code",
   "execution_count": 1,
   "id": "5e59889f",
   "metadata": {
    "ExecuteTime": {
     "end_time": "2023-09-07T09:33:08.638663Z",
     "start_time": "2023-09-07T09:33:01.106289Z"
    }
   },
   "outputs": [],
   "source": [
    "import pandas as pd \n",
    "import streamlit as st\n",
    "from imblearn.combine import SMOTEENN\n",
    "from collections import Counter\n",
    "from sklearn.ensemble import RandomForestClassifier\n",
    "from sklearn.model_selection import train_test_split\n"
   ]
  },
  {
   "cell_type": "code",
   "execution_count": 2,
   "id": "a7e43f7b",
   "metadata": {
    "ExecuteTime": {
     "end_time": "2023-09-07T09:33:14.181847Z",
     "start_time": "2023-09-07T09:33:13.015398Z"
    }
   },
   "outputs": [
    {
     "name": "stderr",
     "output_type": "stream",
     "text": [
      "2023-09-07 15:03:14.130 \n",
      "  \u001b[33m\u001b[1mWarning:\u001b[0m to view this Streamlit app on a browser, run it with the following\n",
      "  command:\n",
      "\n",
      "    streamlit run C:\\Users\\DELL\\anaconda3\\lib\\site-packages\\ipykernel_launcher.py [ARGUMENTS]\n"
     ]
    }
   ],
   "source": [
    "st.title('Model Development \\n Telecommunication Churning')\n",
    "st.sidebar.header('Input Features')\n",
    "def input_features():\n",
    "    Voice_Plan=st.sidebar.selectbox('Voice Plan',('1','0'))\n",
    "    International_Plan=st.sidebar.selectbox('International Plan',('1','0'))\n",
    "    International_Calls=st.sidebar.number_input('Insert Number Of Calls')\n",
    "    International_Charges=st.sidebar.number_input('Insert International Charge')\n",
    "    Day_Charges=st.sidebar.number_input('Insert Day Charge')\n",
    "    Evening_Mins=st.sidebar.number_input('Insert Evening Minutes')\n",
    "    Night_Mins=st.sidebar.number_input('Insert Night Minutes')\n",
    "    \n",
    "    data={'Voice_Plan':Voice_Plan,\n",
    "          'International_Plan':International_Plan,\n",
    "          'International_Calls':International_Calls,\n",
    "          'International_Charges':International_Charges,\n",
    "          'Day_Charges':Day_Charges,\n",
    "          'Evening_Mins':Evening_Mins,\n",
    "          'Night_Mins':Night_Mins}\n",
    "    features=pd.DataFrame(data,index=[0])\n",
    "    return features\n",
    "df=input_features()\n",
    "st.subheader('User Input Features')\n",
    "st.write(df)\n",
    "\n"
   ]
  },
  {
   "cell_type": "code",
   "execution_count": 3,
   "id": "1368d269",
   "metadata": {
    "ExecuteTime": {
     "end_time": "2023-09-07T09:33:31.577403Z",
     "start_time": "2023-09-07T09:33:31.275126Z"
    }
   },
   "outputs": [],
   "source": [
    "churn=pd.read_csv('Churn_Without_Outliers',encoding='utf_8')\n",
    "x=churn.iloc[:,1:8]\n",
    "y=churn.iloc[:,8]\n",
    "x_train,x_test,y_train,y_test=train_test_split(x,y,test_size=.25)\n",
    "sm=SMOTEENN()\n",
    "X,Y = sm.fit_resample(x_train,y_train)\n"
   ]
  },
  {
   "cell_type": "code",
   "execution_count": 4,
   "id": "60dd086c",
   "metadata": {
    "ExecuteTime": {
     "end_time": "2023-09-07T09:33:36.912077Z",
     "start_time": "2023-09-07T09:33:35.963747Z"
    }
   },
   "outputs": [],
   "source": [
    "RF=RandomForestClassifier()\n",
    "RF.fit(X,Y)\n",
    "predict=RF.predict(df)\n",
    "prediction_probability=RF.predict_proba(df)\n",
    "\n"
   ]
  },
  {
   "cell_type": "code",
   "execution_count": 5,
   "id": "50a60a28",
   "metadata": {
    "ExecuteTime": {
     "end_time": "2023-09-07T09:33:39.133696Z",
     "start_time": "2023-09-07T09:33:39.109885Z"
    }
   },
   "outputs": [],
   "source": [
    "st.subheader('Prediction Result')\n",
    "st.write('Yes' if prediction_probability[0][1]>0.5 else 'No')\n",
    "\n",
    "st.subheader('Prediction Probability')\n",
    "st.write(prediction_probability)"
   ]
  }
 ],
 "metadata": {
  "kernelspec": {
   "display_name": "Python 3 (ipykernel)",
   "language": "python",
   "name": "python3"
  },
  "language_info": {
   "codemirror_mode": {
    "name": "ipython",
    "version": 3
   },
   "file_extension": ".py",
   "mimetype": "text/x-python",
   "name": "python",
   "nbconvert_exporter": "python",
   "pygments_lexer": "ipython3",
   "version": "3.9.12"
  }
 },
 "nbformat": 4,
 "nbformat_minor": 5
}
